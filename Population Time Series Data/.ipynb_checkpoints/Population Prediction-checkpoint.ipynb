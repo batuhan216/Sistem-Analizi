{
 "cells": [
  {
   "cell_type": "code",
   "execution_count": 79,
   "id": "de417694",
   "metadata": {},
   "outputs": [
    {
     "data": {
      "text/plain": [
       "<AxesSubplot:>"
      ]
     },
     "execution_count": 79,
     "metadata": {},
     "output_type": "execute_result"
    },
    {
     "data": {
      "image/png": "[encoded data removed]",
      "text/plain": [
       "<Figure size 640x480 with 1 Axes>"
      ]
     },
     "metadata": {},
     "output_type": "display_data"
    }
   ],
   "source": [
    "import numpy as np\n",
    "import pandas as pd\n",
    "import matplotlib.pyplot as plt\n",
    "import math\n",
    "from keras.models import Sequential\n",
    "from keras.layers import Dense\n",
    "from keras.layers import LSTM\n",
    "from sklearn.preprocessing import MinMaxScaler\n",
    "from sklearn.metrics import mean_squared_error\n",
    "\n",
    "%matplotlib inline\n",
    "\n",
    "df = pd.read_csv('POP.csv', delimiter=',')\n",
    "df.plot()"
   ]
  },
  {
   "cell_type": "code",
   "execution_count": 64,
   "id": "97a3218f",
   "metadata": {},
   "outputs": [
    {
     "data": {
      "text/html": [
       "<div>\n",
       "<style scoped>\n",
       "    .dataframe tbody tr th:only-of-type {\n",
       "        vertical-align: middle;\n",
       "    }\n",
       "\n",
       "    .dataframe tbody tr th {\n",
       "        vertical-align: top;\n",
       "    }\n",
       "\n",
       "    .dataframe thead th {\n",
       "        text-align: right;\n",
       "    }\n",
       "</style>\n",
       "<table border=\"1\" class=\"dataframe\">\n",
       "  <thead>\n",
       "    <tr style=\"text-align: right;\">\n",
       "      <th></th>\n",
       "      <th>realtime_start</th>\n",
       "      <th>value</th>\n",
       "      <th>date</th>\n",
       "      <th>realtime_end</th>\n",
       "    </tr>\n",
       "  </thead>\n",
       "  <tbody>\n",
       "    <tr>\n",
       "      <th>0</th>\n",
       "      <td>2019-12-06</td>\n",
       "      <td>156309.000</td>\n",
       "      <td>1952-01-01</td>\n",
       "      <td>2019-12-06</td>\n",
       "    </tr>\n",
       "    <tr>\n",
       "      <th>1</th>\n",
       "      <td>2019-12-06</td>\n",
       "      <td>156527.000</td>\n",
       "      <td>1952-02-01</td>\n",
       "      <td>2019-12-06</td>\n",
       "    </tr>\n",
       "    <tr>\n",
       "      <th>2</th>\n",
       "      <td>2019-12-06</td>\n",
       "      <td>156731.000</td>\n",
       "      <td>1952-03-01</td>\n",
       "      <td>2019-12-06</td>\n",
       "    </tr>\n",
       "    <tr>\n",
       "      <th>3</th>\n",
       "      <td>2019-12-06</td>\n",
       "      <td>156943.000</td>\n",
       "      <td>1952-04-01</td>\n",
       "      <td>2019-12-06</td>\n",
       "    </tr>\n",
       "    <tr>\n",
       "      <th>4</th>\n",
       "      <td>2019-12-06</td>\n",
       "      <td>157140.000</td>\n",
       "      <td>1952-05-01</td>\n",
       "      <td>2019-12-06</td>\n",
       "    </tr>\n",
       "    <tr>\n",
       "      <th>...</th>\n",
       "      <td>...</td>\n",
       "      <td>...</td>\n",
       "      <td>...</td>\n",
       "      <td>...</td>\n",
       "    </tr>\n",
       "    <tr>\n",
       "      <th>811</th>\n",
       "      <td>2019-12-06</td>\n",
       "      <td>329591.333</td>\n",
       "      <td>2019-08-01</td>\n",
       "      <td>2019-12-06</td>\n",
       "    </tr>\n",
       "    <tr>\n",
       "      <th>812</th>\n",
       "      <td>2019-12-06</td>\n",
       "      <td>329785.872</td>\n",
       "      <td>2019-09-01</td>\n",
       "      <td>2019-12-06</td>\n",
       "    </tr>\n",
       "    <tr>\n",
       "      <th>813</th>\n",
       "      <td>2019-12-06</td>\n",
       "      <td>329982.035</td>\n",
       "      <td>2019-10-01</td>\n",
       "      <td>2019-12-06</td>\n",
       "    </tr>\n",
       "    <tr>\n",
       "      <th>814</th>\n",
       "      <td>2019-12-06</td>\n",
       "      <td>330154.949</td>\n",
       "      <td>2019-11-01</td>\n",
       "      <td>2019-12-06</td>\n",
       "    </tr>\n",
       "    <tr>\n",
       "      <th>815</th>\n",
       "      <td>2019-12-06</td>\n",
       "      <td>330309.946</td>\n",
       "      <td>2019-12-01</td>\n",
       "      <td>2019-12-06</td>\n",
       "    </tr>\n",
       "  </tbody>\n",
       "</table>\n",
       "<p>816 rows × 4 columns</p>\n",
       "</div>"
      ],
      "text/plain": [
       "    realtime_start       value        date realtime_end\n",
       "0       2019-12-06  156309.000  1952-01-01   2019-12-06\n",
       "1       2019-12-06  156527.000  1952-02-01   2019-12-06\n",
       "2       2019-12-06  156731.000  1952-03-01   2019-12-06\n",
       "3       2019-12-06  156943.000  1952-04-01   2019-12-06\n",
       "4       2019-12-06  157140.000  1952-05-01   2019-12-06\n",
       "..             ...         ...         ...          ...\n",
       "811     2019-12-06  329591.333  2019-08-01   2019-12-06\n",
       "812     2019-12-06  329785.872  2019-09-01   2019-12-06\n",
       "813     2019-12-06  329982.035  2019-10-01   2019-12-06\n",
       "814     2019-12-06  330154.949  2019-11-01   2019-12-06\n",
       "815     2019-12-06  330309.946  2019-12-01   2019-12-06\n",
       "\n",
       "[816 rows x 4 columns]"
      ]
     },
     "execution_count": 64,
     "metadata": {},
     "output_type": "execute_result"
    }
   ],
   "source": [
    "df"
   ]
  },
  {
   "cell_type": "code",
   "execution_count": 80,
   "id": "3d23963b",
   "metadata": {},
   "outputs": [],
   "source": [
    "df['date'] = pd.to_datetime(df['date'])\n"
   ]
  },
  {
   "cell_type": "code",
   "execution_count": 81,
   "id": "588ba43e",
   "metadata": {},
   "outputs": [],
   "source": [
    "np.random.seed(5)"
   ]
  },
  {
   "cell_type": "code",
   "execution_count": 82,
   "id": "fc5f1c87",
   "metadata": {},
   "outputs": [],
   "source": [
    "dataset=np.array(df['value'])\n",
    "dataset=dataset.reshape(-1,1)"
   ]
  },
  {
   "cell_type": "code",
   "execution_count": 83,
   "id": "252d4ac8",
   "metadata": {},
   "outputs": [],
   "source": [
    "scaler = MinMaxScaler(feature_range=(0, 1))\n",
    "dataset = scaler.fit_transform(dataset)"
   ]
  },
  {
   "cell_type": "code",
   "execution_count": 84,
   "id": "04181e51",
   "metadata": {},
   "outputs": [
    {
     "name": "stdout",
     "output_type": "stream",
     "text": [
      "546 270\n"
     ]
    }
   ],
   "source": [
    "train_size = int(len(dataset) * 0.67)\n",
    "test_size = len(dataset) - train_size\n",
    "train, test = dataset[0:train_size,:], dataset[train_size:len(dataset),:]\n",
    "print(len(train), len(test))"
   ]
  },
  {
   "cell_type": "code",
   "execution_count": 85,
   "id": "7cfdd36c",
   "metadata": {},
   "outputs": [],
   "source": [
    "def create_dataset(dataset, look_back=1):\n",
    "    dataX, dataY = [], []\n",
    "    for i in range(len(dataset)-look_back-1):\n",
    "        a = dataset[i:(i+look_back), 0]\n",
    "        dataX.append(a)\n",
    "        dataY.append(dataset[i + look_back, 0])\n",
    "    return np.array(dataX), np.array(dataY)"
   ]
  },
  {
   "cell_type": "code",
   "execution_count": 86,
   "id": "b9af76ce",
   "metadata": {},
   "outputs": [],
   "source": [
    "look_back = 1\n",
    "trainX, trainY = create_dataset(train, look_back)\n",
    "testX, testY = create_dataset(test, look_back)"
   ]
  },
  {
   "cell_type": "code",
   "execution_count": 87,
   "id": "bde424d8",
   "metadata": {},
   "outputs": [],
   "source": [
    "trainX = np.reshape(trainX, (trainX.shape[0], 1, trainX.shape[1]))\n",
    "testX = np.reshape(testX, (testX.shape[0], 1, testX.shape[1]))"
   ]
  },
  {
   "cell_type": "code",
   "execution_count": 88,
   "id": "c136e452",
   "metadata": {},
   "outputs": [
    {
     "name": "stdout",
     "output_type": "stream",
     "text": [
      "Epoch 1/100\n",
      "544/544 - 2s - loss: 0.0343 - 2s/epoch - 3ms/step\n",
      "Epoch 2/100\n",
      "544/544 - 1s - loss: 0.0098 - 504ms/epoch - 927us/step\n",
      "Epoch 3/100\n",
      "544/544 - 1s - loss: 0.0028 - 505ms/epoch - 929us/step\n",
      "Epoch 4/100\n",
      "544/544 - 1s - loss: 2.5233e-04 - 519ms/epoch - 954us/step\n",
      "Epoch 5/100\n",
      "544/544 - 0s - loss: 2.4543e-05 - 488ms/epoch - 897us/step\n",
      "Epoch 6/100\n",
      "544/544 - 0s - loss: 1.9818e-05 - 491ms/epoch - 903us/step\n",
      "Epoch 7/100\n",
      "544/544 - 0s - loss: 1.7785e-05 - 495ms/epoch - 910us/step\n",
      "Epoch 8/100\n",
      "544/544 - 1s - loss: 1.5360e-05 - 584ms/epoch - 1ms/step\n",
      "Epoch 9/100\n",
      "544/544 - 1s - loss: 1.2603e-05 - 603ms/epoch - 1ms/step\n",
      "Epoch 10/100\n",
      "544/544 - 1s - loss: 1.0361e-05 - 507ms/epoch - 932us/step\n",
      "Epoch 11/100\n",
      "544/544 - 1s - loss: 8.1777e-06 - 509ms/epoch - 936us/step\n",
      "Epoch 12/100\n",
      "544/544 - 1s - loss: 6.5806e-06 - 506ms/epoch - 930us/step\n",
      "Epoch 13/100\n",
      "544/544 - 1s - loss: 5.9078e-06 - 512ms/epoch - 941us/step\n",
      "Epoch 14/100\n",
      "544/544 - 1s - loss: 5.7973e-06 - 501ms/epoch - 921us/step\n",
      "Epoch 15/100\n",
      "544/544 - 1s - loss: 5.9874e-06 - 506ms/epoch - 930us/step\n",
      "Epoch 16/100\n",
      "544/544 - 0s - loss: 5.8778e-06 - 495ms/epoch - 910us/step\n",
      "Epoch 17/100\n",
      "544/544 - 0s - loss: 6.4991e-06 - 495ms/epoch - 910us/step\n",
      "Epoch 18/100\n",
      "544/544 - 1s - loss: 6.0894e-06 - 501ms/epoch - 921us/step\n",
      "Epoch 19/100\n",
      "544/544 - 0s - loss: 6.0198e-06 - 498ms/epoch - 916us/step\n",
      "Epoch 20/100\n",
      "544/544 - 0s - loss: 6.1758e-06 - 496ms/epoch - 912us/step\n",
      "Epoch 21/100\n",
      "544/544 - 0s - loss: 5.8351e-06 - 491ms/epoch - 903us/step\n",
      "Epoch 22/100\n",
      "544/544 - 0s - loss: 6.8802e-06 - 496ms/epoch - 912us/step\n",
      "Epoch 23/100\n",
      "544/544 - 0s - loss: 5.8545e-06 - 492ms/epoch - 904us/step\n",
      "Epoch 24/100\n",
      "544/544 - 0s - loss: 6.1720e-06 - 494ms/epoch - 908us/step\n",
      "Epoch 25/100\n",
      "544/544 - 0s - loss: 7.0360e-06 - 489ms/epoch - 899us/step\n",
      "Epoch 26/100\n",
      "544/544 - 1s - loss: 5.7711e-06 - 513ms/epoch - 943us/step\n",
      "Epoch 27/100\n",
      "544/544 - 0s - loss: 5.6802e-06 - 491ms/epoch - 902us/step\n",
      "Epoch 28/100\n",
      "544/544 - 0s - loss: 5.5649e-06 - 498ms/epoch - 915us/step\n",
      "Epoch 29/100\n",
      "544/544 - 1s - loss: 5.9130e-06 - 514ms/epoch - 945us/step\n",
      "Epoch 30/100\n",
      "544/544 - 0s - loss: 5.8508e-06 - 496ms/epoch - 911us/step\n",
      "Epoch 31/100\n",
      "544/544 - 0s - loss: 6.0459e-06 - 490ms/epoch - 901us/step\n",
      "Epoch 32/100\n",
      "544/544 - 0s - loss: 4.4511e-06 - 492ms/epoch - 905us/step\n",
      "Epoch 33/100\n",
      "544/544 - 0s - loss: 6.0504e-06 - 484ms/epoch - 890us/step\n",
      "Epoch 34/100\n",
      "544/544 - 0s - loss: 5.3685e-06 - 493ms/epoch - 906us/step\n",
      "Epoch 35/100\n",
      "544/544 - 0s - loss: 5.1568e-06 - 487ms/epoch - 895us/step\n",
      "Epoch 36/100\n",
      "544/544 - 0s - loss: 5.0888e-06 - 489ms/epoch - 900us/step\n",
      "Epoch 37/100\n",
      "544/544 - 0s - loss: 5.5091e-06 - 490ms/epoch - 901us/step\n",
      "Epoch 38/100\n",
      "544/544 - 0s - loss: 4.9895e-06 - 485ms/epoch - 892us/step\n",
      "Epoch 39/100\n",
      "544/544 - 0s - loss: 4.8955e-06 - 485ms/epoch - 891us/step\n",
      "Epoch 40/100\n",
      "544/544 - 0s - loss: 5.4580e-06 - 484ms/epoch - 889us/step\n",
      "Epoch 41/100\n",
      "544/544 - 0s - loss: 4.5217e-06 - 484ms/epoch - 890us/step\n",
      "Epoch 42/100\n",
      "544/544 - 0s - loss: 4.2783e-06 - 487ms/epoch - 894us/step\n",
      "Epoch 43/100\n",
      "544/544 - 0s - loss: 5.2681e-06 - 484ms/epoch - 890us/step\n",
      "Epoch 44/100\n",
      "544/544 - 0s - loss: 5.5411e-06 - 486ms/epoch - 894us/step\n",
      "Epoch 45/100\n",
      "544/544 - 0s - loss: 5.4269e-06 - 484ms/epoch - 889us/step\n",
      "Epoch 46/100\n",
      "544/544 - 0s - loss: 4.5970e-06 - 482ms/epoch - 886us/step\n",
      "Epoch 47/100\n",
      "544/544 - 0s - loss: 5.7888e-06 - 490ms/epoch - 901us/step\n",
      "Epoch 48/100\n",
      "544/544 - 0s - loss: 4.7387e-06 - 482ms/epoch - 886us/step\n",
      "Epoch 49/100\n",
      "544/544 - 0s - loss: 4.1991e-06 - 483ms/epoch - 887us/step\n",
      "Epoch 50/100\n",
      "544/544 - 0s - loss: 6.0767e-06 - 481ms/epoch - 884us/step\n",
      "Epoch 51/100\n",
      "544/544 - 1s - loss: 4.4356e-06 - 506ms/epoch - 930us/step\n",
      "Epoch 52/100\n",
      "544/544 - 0s - loss: 4.8451e-06 - 488ms/epoch - 897us/step\n",
      "Epoch 53/100\n",
      "544/544 - 0s - loss: 4.3315e-06 - 487ms/epoch - 895us/step\n",
      "Epoch 54/100\n",
      "544/544 - 0s - loss: 4.8514e-06 - 483ms/epoch - 888us/step\n",
      "Epoch 55/100\n",
      "544/544 - 0s - loss: 5.0707e-06 - 486ms/epoch - 893us/step\n",
      "Epoch 56/100\n",
      "544/544 - 0s - loss: 4.9760e-06 - 486ms/epoch - 893us/step\n",
      "Epoch 57/100\n",
      "544/544 - 0s - loss: 4.6654e-06 - 486ms/epoch - 893us/step\n",
      "Epoch 58/100\n",
      "544/544 - 0s - loss: 4.3597e-06 - 485ms/epoch - 891us/step\n",
      "Epoch 59/100\n",
      "544/544 - 1s - loss: 4.9406e-06 - 506ms/epoch - 929us/step\n",
      "Epoch 60/100\n",
      "544/544 - 0s - loss: 4.3045e-06 - 490ms/epoch - 900us/step\n",
      "Epoch 61/100\n",
      "544/544 - 1s - loss: 4.6299e-06 - 512ms/epoch - 941us/step\n",
      "Epoch 62/100\n",
      "544/544 - 1s - loss: 4.6668e-06 - 511ms/epoch - 939us/step\n",
      "Epoch 63/100\n",
      "544/544 - 0s - loss: 3.5997e-06 - 496ms/epoch - 912us/step\n",
      "Epoch 64/100\n",
      "544/544 - 0s - loss: 3.5967e-06 - 493ms/epoch - 906us/step\n",
      "Epoch 65/100\n",
      "544/544 - 0s - loss: 3.8542e-06 - 493ms/epoch - 906us/step\n",
      "Epoch 66/100\n",
      "544/544 - 1s - loss: 3.8348e-06 - 507ms/epoch - 933us/step\n",
      "Epoch 67/100\n",
      "544/544 - 1s - loss: 4.2289e-06 - 523ms/epoch - 962us/step\n",
      "Epoch 68/100\n",
      "544/544 - 1s - loss: 4.0324e-06 - 512ms/epoch - 941us/step\n",
      "Epoch 69/100\n",
      "544/544 - 0s - loss: 3.7497e-06 - 490ms/epoch - 901us/step\n",
      "Epoch 70/100\n",
      "544/544 - 0s - loss: 3.5254e-06 - 499ms/epoch - 917us/step\n",
      "Epoch 71/100\n",
      "544/544 - 1s - loss: 3.2310e-06 - 505ms/epoch - 928us/step\n",
      "Epoch 72/100\n",
      "544/544 - 1s - loss: 3.5804e-06 - 520ms/epoch - 956us/step\n",
      "Epoch 73/100\n",
      "544/544 - 1s - loss: 2.4410e-06 - 518ms/epoch - 952us/step\n",
      "Epoch 74/100\n",
      "544/544 - 1s - loss: 3.2921e-06 - 525ms/epoch - 965us/step\n",
      "Epoch 75/100\n",
      "544/544 - 1s - loss: 3.1505e-06 - 505ms/epoch - 928us/step\n",
      "Epoch 76/100\n",
      "544/544 - 1s - loss: 2.3137e-06 - 544ms/epoch - 1ms/step\n",
      "Epoch 77/100\n",
      "544/544 - 1s - loss: 1.9907e-06 - 552ms/epoch - 1ms/step\n",
      "Epoch 78/100\n",
      "544/544 - 1s - loss: 2.5109e-06 - 518ms/epoch - 952us/step\n",
      "Epoch 79/100\n",
      "544/544 - 1s - loss: 1.8333e-06 - 521ms/epoch - 958us/step\n",
      "Epoch 80/100\n",
      "544/544 - 1s - loss: 2.0982e-06 - 516ms/epoch - 949us/step\n",
      "Epoch 81/100\n",
      "544/544 - 1s - loss: 2.1524e-06 - 507ms/epoch - 932us/step\n",
      "Epoch 82/100\n",
      "544/544 - 1s - loss: 1.6507e-06 - 536ms/epoch - 986us/step\n",
      "Epoch 83/100\n",
      "544/544 - 0s - loss: 1.3110e-06 - 491ms/epoch - 903us/step\n",
      "Epoch 84/100\n",
      "544/544 - 1s - loss: 9.5782e-07 - 541ms/epoch - 995us/step\n",
      "Epoch 85/100\n",
      "544/544 - 1s - loss: 1.0332e-06 - 524ms/epoch - 963us/step\n",
      "Epoch 86/100\n",
      "544/544 - 1s - loss: 1.2407e-06 - 551ms/epoch - 1ms/step\n",
      "Epoch 87/100\n",
      "544/544 - 1s - loss: 1.1283e-06 - 563ms/epoch - 1ms/step\n",
      "Epoch 88/100\n",
      "544/544 - 1s - loss: 5.9358e-07 - 545ms/epoch - 1ms/step\n",
      "Epoch 89/100\n",
      "544/544 - 1s - loss: 7.6633e-07 - 576ms/epoch - 1ms/step\n",
      "Epoch 90/100\n",
      "544/544 - 1s - loss: 5.5229e-07 - 520ms/epoch - 956us/step\n",
      "Epoch 91/100\n",
      "544/544 - 1s - loss: 4.8554e-07 - 514ms/epoch - 945us/step\n",
      "Epoch 92/100\n",
      "544/544 - 1s - loss: 6.4924e-07 - 575ms/epoch - 1ms/step\n",
      "Epoch 93/100\n",
      "544/544 - 1s - loss: 2.2638e-07 - 619ms/epoch - 1ms/step\n",
      "Epoch 94/100\n",
      "544/544 - 1s - loss: 5.0335e-07 - 576ms/epoch - 1ms/step\n",
      "Epoch 95/100\n",
      "544/544 - 1s - loss: 2.9312e-07 - 537ms/epoch - 987us/step\n",
      "Epoch 96/100\n",
      "544/544 - 1s - loss: 2.9764e-07 - 515ms/epoch - 947us/step\n",
      "Epoch 97/100\n",
      "544/544 - 1s - loss: 5.4598e-07 - 534ms/epoch - 982us/step\n",
      "Epoch 98/100\n",
      "544/544 - 1s - loss: 4.6996e-07 - 519ms/epoch - 954us/step\n",
      "Epoch 99/100\n",
      "544/544 - 1s - loss: 5.9892e-07 - 508ms/epoch - 934us/step\n",
      "Epoch 100/100\n",
      "544/544 - 0s - loss: 3.8986e-07 - 490ms/epoch - 901us/step\n"
     ]
    },
    {
     "data": {
      "text/plain": [
       "<keras.callbacks.History at 0x140dda69fd0>"
      ]
     },
     "execution_count": 88,
     "metadata": {},
     "output_type": "execute_result"
    }
   ],
   "source": [
    "model = Sequential()\n",
    "model.add(LSTM(4, input_shape=(1, look_back)))\n",
    "model.add(Dense(1))\n",
    "model.compile(loss='mean_squared_error', optimizer='adam')\n",
    "model.fit(trainX, trainY, epochs=100, batch_size=1, verbose=2)"
   ]
  },
  {
   "cell_type": "code",
   "execution_count": 89,
   "id": "d85e761f",
   "metadata": {},
   "outputs": [
    {
     "name": "stdout",
     "output_type": "stream",
     "text": [
      "17/17 [==============================] - 0s 875us/step\n",
      "9/9 [==============================] - 0s 1ms/step\n",
      "Train Score: 107.21 RMSE\n",
      "Test Score: 1534.09 RMSE\n"
     ]
    }
   ],
   "source": [
    "trainPredict = model.predict(trainX)\n",
    "testPredict = model.predict(testX)\n",
    "\n",
    "trainPredict = scaler.inverse_transform(trainPredict)\n",
    "trainY = scaler.inverse_transform([trainY])\n",
    "testPredict = scaler.inverse_transform(testPredict)\n",
    "testY = scaler.inverse_transform([testY])\n",
    "\n",
    "trainScore = math.sqrt(mean_squared_error(trainY[0], trainPredict[:,0]))\n",
    "print('Train Score: %.2f RMSE' % (trainScore))\n",
    "testScore = math.sqrt(mean_squared_error(testY[0], testPredict[:,0]))\n",
    "print('Test Score: %.2f RMSE' % (testScore))"
   ]
  },
  {
   "cell_type": "code",
   "execution_count": 90,
   "id": "34929d5d",
   "metadata": {},
   "outputs": [
    {
     "data": {
      "image/png": "[encoded data removed]",
      "text/plain": [
       "<Figure size 640x480 with 1 Axes>"
      ]
     },
     "metadata": {},
     "output_type": "display_data"
    }
   ],
   "source": [
    "trainPredictPlot = np.empty_like(dataset)\n",
    "trainPredictPlot[:, :] = np.nan\n",
    "trainPredictPlot[look_back:len(trainPredict)+look_back, :] = trainPredict\n",
    "\n",
    "testPredictPlot = np.empty_like(dataset)\n",
    "testPredictPlot[:, :] = np.nan\n",
    "testPredictPlot[len(trainPredict)+(look_back*2)+1:len(dataset)-1, :] = testPredict\n",
    "\n",
    "plt.plot(df['date'],scaler.inverse_transform(dataset),color='blue')\n",
    "plt.plot(df['date'],trainPredictPlot,color='green')\n",
    "plt.plot(df['date'],testPredictPlot,color='red')\n",
    "plt.show()"
   ]
  },
  {
   "cell_type": "code",
   "execution_count": 92,
   "id": "c6b67bac",
   "metadata": {},
   "outputs": [
    {
     "data": {
      "image/png": "[encoded data removed]",
      "text/plain": [
       "<Figure size 640x480 with 1 Axes>"
      ]
     },
     "metadata": {},
     "output_type": "display_data"
    }
   ],
   "source": [
    "plt.plot(df['date'][500:700],(scaler.inverse_transform(dataset))[500:700],color='blue')\n",
    "plt.plot(df['date'][500:700],trainPredictPlot[500:700],color='green')\n",
    "plt.plot(df['date'][500:700],testPredictPlot[500:700],color='red')\n",
    "plt.show()"
   ]
  },
  {
   "cell_type": "code",
   "execution_count": null,
   "id": "1bd81fa8",
   "metadata": {},
   "outputs": [],
   "source": []
  }
 ],
 "metadata": {
  "kernelspec": {
   "display_name": "Python 3 (ipykernel)",
   "language": "python",
   "name": "python3"
  },
  "language_info": {
   "codemirror_mode": {
    "name": "ipython",
    "version": 3
   },
   "file_extension": ".py",
   "mimetype": "text/x-python",
   "name": "python",
   "nbconvert_exporter": "python",
   "pygments_lexer": "ipython3",
   "version": "3.9.12"
  }
 },
 "nbformat": 4,
 "nbformat_minor": 5
}
